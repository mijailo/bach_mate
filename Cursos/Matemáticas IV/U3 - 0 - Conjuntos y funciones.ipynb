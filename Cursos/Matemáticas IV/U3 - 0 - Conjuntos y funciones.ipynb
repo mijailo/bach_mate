{
 "cells": [
  {
   "cell_type": "markdown",
   "metadata": {},
   "source": [
    "# Ejemplos de conjuntos y funciones"
   ]
  },
  {
   "cell_type": "markdown",
   "metadata": {},
   "source": [
    "Primero hay que definir un par de conjuntos."
   ]
  },
  {
   "cell_type": "code",
   "execution_count": 30,
   "metadata": {},
   "outputs": [],
   "source": [
    "A=['Iván','Aldair','Alexa'] #Ud. y su bro/sis\n",
    "B=['plátano','fresa','manzana','pera','piña'] #Frutas en la Mercé"
   ]
  },
  {
   "cell_type": "markdown",
   "metadata": {},
   "source": [
    "Luego programamos una función para calcular la potencia de un conjunto."
   ]
  },
  {
   "cell_type": "code",
   "execution_count": 12,
   "metadata": {},
   "outputs": [],
   "source": [
    "def powerset(seq):\n",
    "    \"\"\"\n",
    "    Función generadora de todos los subconjuntos de una lista.\n",
    "    type(seq)=list\n",
    "    \"\"\"\n",
    "    if len(seq) <= 1:\n",
    "        yield seq\n",
    "        yield []\n",
    "    else:\n",
    "        for item in powerset(seq[1:]):\n",
    "            yield [seq[0]]+item\n",
    "            yield item"
   ]
  },
  {
   "cell_type": "markdown",
   "metadata": {},
   "source": [
    "$\\mathcal{P}(A)$: el conjunto de los subconjuntos de $A$."
   ]
  },
  {
   "cell_type": "code",
   "execution_count": 31,
   "metadata": {},
   "outputs": [
    {
     "name": "stdout",
     "output_type": "stream",
     "text": [
      "1 : {'Aldair', 'Iván', 'Alexa'}\n",
      "2 : {'Aldair', 'Alexa'}\n",
      "3 : {'Iván', 'Alexa'}\n",
      "4 : {'Alexa'}\n",
      "5 : {'Aldair', 'Iván'}\n",
      "6 : {'Aldair'}\n",
      "7 : {'Iván'}\n",
      "8 : set()\n"
     ]
    }
   ],
   "source": [
    "a=powerset(A)\n",
    "j=0\n",
    "for i in a:\n",
    "    j+=1\n",
    "    print(j,':',set(i))"
   ]
  },
  {
   "cell_type": "markdown",
   "metadata": {},
   "source": [
    "$B\\times A$: El producto cartesiano de $B$ con $A$."
   ]
  },
  {
   "cell_type": "code",
   "execution_count": 32,
   "metadata": {},
   "outputs": [
    {
     "name": "stdout",
     "output_type": "stream",
     "text": [
      "('plátano', 'Iván')\n",
      "('plátano', 'Aldair')\n",
      "('plátano', 'Alexa')\n",
      "('fresa', 'Iván')\n",
      "('fresa', 'Aldair')\n",
      "('fresa', 'Alexa')\n",
      "('manzana', 'Iván')\n",
      "('manzana', 'Aldair')\n",
      "('manzana', 'Alexa')\n",
      "('pera', 'Iván')\n",
      "('pera', 'Aldair')\n",
      "('pera', 'Alexa')\n",
      "('piña', 'Iván')\n",
      "('piña', 'Aldair')\n",
      "('piña', 'Alexa')\n"
     ]
    }
   ],
   "source": [
    "for i in B:\n",
    "    for j in A:\n",
    "        print((i,j))"
   ]
  },
  {
   "cell_type": "markdown",
   "metadata": {},
   "source": [
    "$A\\times B$: El producto cartesiano de $A$ con $B$."
   ]
  },
  {
   "cell_type": "code",
   "execution_count": 33,
   "metadata": {},
   "outputs": [
    {
     "name": "stdout",
     "output_type": "stream",
     "text": [
      "('Iván', 'plátano')\n",
      "('Iván', 'fresa')\n",
      "('Iván', 'manzana')\n",
      "('Iván', 'pera')\n",
      "('Iván', 'piña')\n",
      "('Aldair', 'plátano')\n",
      "('Aldair', 'fresa')\n",
      "('Aldair', 'manzana')\n",
      "('Aldair', 'pera')\n",
      "('Aldair', 'piña')\n",
      "('Alexa', 'plátano')\n",
      "('Alexa', 'fresa')\n",
      "('Alexa', 'manzana')\n",
      "('Alexa', 'pera')\n",
      "('Alexa', 'piña')\n"
     ]
    }
   ],
   "source": [
    "for i in A:\n",
    "    for j in B:\n",
    "        print((i,j))"
   ]
  },
  {
   "cell_type": "markdown",
   "metadata": {},
   "source": [
    "$\\text{Hom}_{\\text{Set}}(A,B)$: El conjunto de funciones de $A$ en $B$."
   ]
  },
  {
   "cell_type": "code",
   "execution_count": 34,
   "metadata": {
    "scrolled": false
   },
   "outputs": [
    {
     "name": "stdout",
     "output_type": "stream",
     "text": [
      "1 : {('Aldair', 'piña'), ('Alexa', 'piña'), ('Iván', 'piña')}\n",
      "2 : {('Aldair', 'piña'), ('Alexa', 'piña'), ('Iván', 'pera')}\n",
      "3 : {('Aldair', 'piña'), ('Iván', 'manzana'), ('Alexa', 'piña')}\n",
      "4 : {('Aldair', 'piña'), ('Alexa', 'piña'), ('Iván', 'fresa')}\n",
      "5 : {('Aldair', 'piña'), ('Alexa', 'piña'), ('Iván', 'plátano')}\n",
      "6 : {('Aldair', 'pera'), ('Alexa', 'piña'), ('Iván', 'piña')}\n",
      "7 : {('Aldair', 'pera'), ('Alexa', 'piña'), ('Iván', 'pera')}\n",
      "8 : {('Aldair', 'pera'), ('Iván', 'manzana'), ('Alexa', 'piña')}\n",
      "9 : {('Aldair', 'pera'), ('Alexa', 'piña'), ('Iván', 'fresa')}\n",
      "10 : {('Aldair', 'pera'), ('Alexa', 'piña'), ('Iván', 'plátano')}\n",
      "11 : {('Alexa', 'piña'), ('Iván', 'piña'), ('Aldair', 'manzana')}\n",
      "12 : {('Alexa', 'piña'), ('Iván', 'pera'), ('Aldair', 'manzana')}\n",
      "13 : {('Iván', 'manzana'), ('Alexa', 'piña'), ('Aldair', 'manzana')}\n",
      "14 : {('Alexa', 'piña'), ('Aldair', 'manzana'), ('Iván', 'fresa')}\n",
      "15 : {('Alexa', 'piña'), ('Aldair', 'manzana'), ('Iván', 'plátano')}\n",
      "16 : {('Alexa', 'piña'), ('Aldair', 'fresa'), ('Iván', 'piña')}\n",
      "17 : {('Alexa', 'piña'), ('Aldair', 'fresa'), ('Iván', 'pera')}\n",
      "18 : {('Aldair', 'fresa'), ('Iván', 'manzana'), ('Alexa', 'piña')}\n",
      "19 : {('Aldair', 'fresa'), ('Alexa', 'piña'), ('Iván', 'fresa')}\n",
      "20 : {('Aldair', 'fresa'), ('Alexa', 'piña'), ('Iván', 'plátano')}\n",
      "21 : {('Alexa', 'piña'), ('Aldair', 'plátano'), ('Iván', 'piña')}\n",
      "22 : {('Alexa', 'piña'), ('Aldair', 'plátano'), ('Iván', 'pera')}\n",
      "23 : {('Aldair', 'plátano'), ('Iván', 'manzana'), ('Alexa', 'piña')}\n",
      "24 : {('Aldair', 'plátano'), ('Alexa', 'piña'), ('Iván', 'fresa')}\n",
      "25 : {('Aldair', 'plátano'), ('Alexa', 'piña'), ('Iván', 'plátano')}\n",
      "26 : {('Aldair', 'piña'), ('Alexa', 'pera'), ('Iván', 'piña')}\n",
      "27 : {('Aldair', 'piña'), ('Alexa', 'pera'), ('Iván', 'pera')}\n",
      "28 : {('Aldair', 'piña'), ('Iván', 'manzana'), ('Alexa', 'pera')}\n",
      "29 : {('Aldair', 'piña'), ('Alexa', 'pera'), ('Iván', 'fresa')}\n",
      "30 : {('Aldair', 'piña'), ('Alexa', 'pera'), ('Iván', 'plátano')}\n",
      "31 : {('Aldair', 'pera'), ('Alexa', 'pera'), ('Iván', 'piña')}\n",
      "32 : {('Aldair', 'pera'), ('Alexa', 'pera'), ('Iván', 'pera')}\n",
      "33 : {('Aldair', 'pera'), ('Iván', 'manzana'), ('Alexa', 'pera')}\n",
      "34 : {('Aldair', 'pera'), ('Alexa', 'pera'), ('Iván', 'fresa')}\n",
      "35 : {('Aldair', 'pera'), ('Alexa', 'pera'), ('Iván', 'plátano')}\n",
      "36 : {('Alexa', 'pera'), ('Iván', 'piña'), ('Aldair', 'manzana')}\n",
      "37 : {('Alexa', 'pera'), ('Iván', 'pera'), ('Aldair', 'manzana')}\n",
      "38 : {('Iván', 'manzana'), ('Alexa', 'pera'), ('Aldair', 'manzana')}\n",
      "39 : {('Alexa', 'pera'), ('Aldair', 'manzana'), ('Iván', 'fresa')}\n",
      "40 : {('Alexa', 'pera'), ('Aldair', 'manzana'), ('Iván', 'plátano')}\n",
      "41 : {('Alexa', 'pera'), ('Aldair', 'fresa'), ('Iván', 'piña')}\n",
      "42 : {('Alexa', 'pera'), ('Aldair', 'fresa'), ('Iván', 'pera')}\n",
      "43 : {('Aldair', 'fresa'), ('Iván', 'manzana'), ('Alexa', 'pera')}\n",
      "44 : {('Aldair', 'fresa'), ('Alexa', 'pera'), ('Iván', 'fresa')}\n",
      "45 : {('Aldair', 'fresa'), ('Alexa', 'pera'), ('Iván', 'plátano')}\n",
      "46 : {('Alexa', 'pera'), ('Aldair', 'plátano'), ('Iván', 'piña')}\n",
      "47 : {('Alexa', 'pera'), ('Aldair', 'plátano'), ('Iván', 'pera')}\n",
      "48 : {('Aldair', 'plátano'), ('Iván', 'manzana'), ('Alexa', 'pera')}\n",
      "49 : {('Aldair', 'plátano'), ('Alexa', 'pera'), ('Iván', 'fresa')}\n",
      "50 : {('Aldair', 'plátano'), ('Alexa', 'pera'), ('Iván', 'plátano')}\n",
      "51 : {('Aldair', 'piña'), ('Alexa', 'manzana'), ('Iván', 'piña')}\n",
      "52 : {('Aldair', 'piña'), ('Alexa', 'manzana'), ('Iván', 'pera')}\n",
      "53 : {('Aldair', 'piña'), ('Iván', 'manzana'), ('Alexa', 'manzana')}\n",
      "54 : {('Aldair', 'piña'), ('Alexa', 'manzana'), ('Iván', 'fresa')}\n",
      "55 : {('Aldair', 'piña'), ('Alexa', 'manzana'), ('Iván', 'plátano')}\n",
      "56 : {('Aldair', 'pera'), ('Alexa', 'manzana'), ('Iván', 'piña')}\n",
      "57 : {('Aldair', 'pera'), ('Alexa', 'manzana'), ('Iván', 'pera')}\n",
      "58 : {('Aldair', 'pera'), ('Iván', 'manzana'), ('Alexa', 'manzana')}\n",
      "59 : {('Aldair', 'pera'), ('Alexa', 'manzana'), ('Iván', 'fresa')}\n",
      "60 : {('Aldair', 'pera'), ('Alexa', 'manzana'), ('Iván', 'plátano')}\n",
      "61 : {('Alexa', 'manzana'), ('Iván', 'piña'), ('Aldair', 'manzana')}\n",
      "62 : {('Alexa', 'manzana'), ('Iván', 'pera'), ('Aldair', 'manzana')}\n",
      "63 : {('Alexa', 'manzana'), ('Iván', 'manzana'), ('Aldair', 'manzana')}\n",
      "64 : {('Alexa', 'manzana'), ('Aldair', 'manzana'), ('Iván', 'fresa')}\n",
      "65 : {('Alexa', 'manzana'), ('Aldair', 'manzana'), ('Iván', 'plátano')}\n",
      "66 : {('Aldair', 'fresa'), ('Alexa', 'manzana'), ('Iván', 'piña')}\n",
      "67 : {('Aldair', 'fresa'), ('Alexa', 'manzana'), ('Iván', 'pera')}\n",
      "68 : {('Alexa', 'manzana'), ('Aldair', 'fresa'), ('Iván', 'manzana')}\n",
      "69 : {('Aldair', 'fresa'), ('Alexa', 'manzana'), ('Iván', 'fresa')}\n",
      "70 : {('Aldair', 'fresa'), ('Alexa', 'manzana'), ('Iván', 'plátano')}\n",
      "71 : {('Alexa', 'manzana'), ('Aldair', 'plátano'), ('Iván', 'piña')}\n",
      "72 : {('Alexa', 'manzana'), ('Aldair', 'plátano'), ('Iván', 'pera')}\n",
      "73 : {('Alexa', 'manzana'), ('Aldair', 'plátano'), ('Iván', 'manzana')}\n",
      "74 : {('Alexa', 'manzana'), ('Aldair', 'plátano'), ('Iván', 'fresa')}\n",
      "75 : {('Alexa', 'manzana'), ('Aldair', 'plátano'), ('Iván', 'plátano')}\n",
      "76 : {('Aldair', 'piña'), ('Iván', 'piña'), ('Alexa', 'fresa')}\n",
      "77 : {('Aldair', 'piña'), ('Iván', 'pera'), ('Alexa', 'fresa')}\n",
      "78 : {('Aldair', 'piña'), ('Iván', 'manzana'), ('Alexa', 'fresa')}\n",
      "79 : {('Aldair', 'piña'), ('Alexa', 'fresa'), ('Iván', 'fresa')}\n",
      "80 : {('Aldair', 'piña'), ('Alexa', 'fresa'), ('Iván', 'plátano')}\n",
      "81 : {('Aldair', 'pera'), ('Iván', 'piña'), ('Alexa', 'fresa')}\n",
      "82 : {('Aldair', 'pera'), ('Iván', 'pera'), ('Alexa', 'fresa')}\n",
      "83 : {('Aldair', 'pera'), ('Iván', 'manzana'), ('Alexa', 'fresa')}\n",
      "84 : {('Aldair', 'pera'), ('Alexa', 'fresa'), ('Iván', 'fresa')}\n",
      "85 : {('Aldair', 'pera'), ('Alexa', 'fresa'), ('Iván', 'plátano')}\n",
      "86 : {('Iván', 'piña'), ('Aldair', 'manzana'), ('Alexa', 'fresa')}\n",
      "87 : {('Iván', 'pera'), ('Aldair', 'manzana'), ('Alexa', 'fresa')}\n",
      "88 : {('Iván', 'manzana'), ('Aldair', 'manzana'), ('Alexa', 'fresa')}\n",
      "89 : {('Alexa', 'fresa'), ('Aldair', 'manzana'), ('Iván', 'fresa')}\n",
      "90 : {('Alexa', 'fresa'), ('Aldair', 'manzana'), ('Iván', 'plátano')}\n",
      "91 : {('Aldair', 'fresa'), ('Iván', 'piña'), ('Alexa', 'fresa')}\n",
      "92 : {('Aldair', 'fresa'), ('Iván', 'pera'), ('Alexa', 'fresa')}\n",
      "93 : {('Aldair', 'fresa'), ('Iván', 'manzana'), ('Alexa', 'fresa')}\n",
      "94 : {('Aldair', 'fresa'), ('Alexa', 'fresa'), ('Iván', 'fresa')}\n",
      "95 : {('Aldair', 'fresa'), ('Alexa', 'fresa'), ('Iván', 'plátano')}\n",
      "96 : {('Aldair', 'plátano'), ('Iván', 'piña'), ('Alexa', 'fresa')}\n",
      "97 : {('Aldair', 'plátano'), ('Iván', 'pera'), ('Alexa', 'fresa')}\n",
      "98 : {('Aldair', 'plátano'), ('Iván', 'manzana'), ('Alexa', 'fresa')}\n",
      "99 : {('Aldair', 'plátano'), ('Alexa', 'fresa'), ('Iván', 'fresa')}\n",
      "100 : {('Aldair', 'plátano'), ('Alexa', 'fresa'), ('Iván', 'plátano')}\n",
      "101 : {('Aldair', 'piña'), ('Alexa', 'plátano'), ('Iván', 'piña')}\n",
      "102 : {('Aldair', 'piña'), ('Alexa', 'plátano'), ('Iván', 'pera')}\n",
      "103 : {('Aldair', 'piña'), ('Alexa', 'plátano'), ('Iván', 'manzana')}\n",
      "104 : {('Aldair', 'piña'), ('Alexa', 'plátano'), ('Iván', 'fresa')}\n",
      "105 : {('Aldair', 'piña'), ('Alexa', 'plátano'), ('Iván', 'plátano')}\n",
      "106 : {('Aldair', 'pera'), ('Alexa', 'plátano'), ('Iván', 'piña')}\n",
      "107 : {('Aldair', 'pera'), ('Alexa', 'plátano'), ('Iván', 'pera')}\n",
      "108 : {('Aldair', 'pera'), ('Alexa', 'plátano'), ('Iván', 'manzana')}\n",
      "109 : {('Aldair', 'pera'), ('Alexa', 'plátano'), ('Iván', 'fresa')}\n",
      "110 : {('Aldair', 'pera'), ('Alexa', 'plátano'), ('Iván', 'plátano')}\n",
      "111 : {('Alexa', 'plátano'), ('Iván', 'piña'), ('Aldair', 'manzana')}\n",
      "112 : {('Alexa', 'plátano'), ('Iván', 'pera'), ('Aldair', 'manzana')}\n",
      "113 : {('Alexa', 'plátano'), ('Iván', 'manzana'), ('Aldair', 'manzana')}\n",
      "114 : {('Alexa', 'plátano'), ('Aldair', 'manzana'), ('Iván', 'fresa')}\n",
      "115 : {('Alexa', 'plátano'), ('Aldair', 'manzana'), ('Iván', 'plátano')}\n",
      "116 : {('Alexa', 'plátano'), ('Aldair', 'fresa'), ('Iván', 'piña')}\n",
      "117 : {('Alexa', 'plátano'), ('Aldair', 'fresa'), ('Iván', 'pera')}\n",
      "118 : {('Alexa', 'plátano'), ('Aldair', 'fresa'), ('Iván', 'manzana')}\n",
      "119 : {('Alexa', 'plátano'), ('Aldair', 'fresa'), ('Iván', 'fresa')}\n",
      "120 : {('Alexa', 'plátano'), ('Aldair', 'fresa'), ('Iván', 'plátano')}\n",
      "121 : {('Alexa', 'plátano'), ('Aldair', 'plátano'), ('Iván', 'piña')}\n",
      "122 : {('Alexa', 'plátano'), ('Aldair', 'plátano'), ('Iván', 'pera')}\n",
      "123 : {('Alexa', 'plátano'), ('Aldair', 'plátano'), ('Iván', 'manzana')}\n",
      "124 : {('Alexa', 'plátano'), ('Aldair', 'plátano'), ('Iván', 'fresa')}\n",
      "125 : {('Alexa', 'plátano'), ('Aldair', 'plátano'), ('Iván', 'plátano')}\n"
     ]
    }
   ],
   "source": [
    "AxB=[(i,j) for i in A for j in B]\n",
    "RelAB=powerset(AxB)\n",
    "\n",
    "j=0\n",
    "F_AB=[]\n",
    "for i in RelAB:\n",
    "    if len(i)==len(A) and {k[0] for k in i}==set(A):\n",
    "        j+=1\n",
    "        print(j,':',set(i))\n",
    "        F_AB.append(set(i))"
   ]
  },
  {
   "cell_type": "markdown",
   "metadata": {},
   "source": [
    "**¿Cuáles de estas funciones son inyectivas?**"
   ]
  },
  {
   "cell_type": "code",
   "execution_count": 35,
   "metadata": {
    "scrolled": false
   },
   "outputs": [
    {
     "data": {
      "text/plain": [
       "[{('Aldair', 'pera'), ('Alexa', 'piña'), ('Iván', 'manzana')},\n",
       " {('Aldair', 'pera'), ('Alexa', 'piña'), ('Iván', 'fresa')},\n",
       " {('Aldair', 'pera'), ('Alexa', 'piña'), ('Iván', 'plátano')},\n",
       " {('Aldair', 'manzana'), ('Alexa', 'piña'), ('Iván', 'pera')},\n",
       " {('Aldair', 'manzana'), ('Alexa', 'piña'), ('Iván', 'fresa')},\n",
       " {('Aldair', 'manzana'), ('Alexa', 'piña'), ('Iván', 'plátano')},\n",
       " {('Aldair', 'fresa'), ('Alexa', 'piña'), ('Iván', 'pera')},\n",
       " {('Aldair', 'fresa'), ('Alexa', 'piña'), ('Iván', 'manzana')},\n",
       " {('Aldair', 'fresa'), ('Alexa', 'piña'), ('Iván', 'plátano')},\n",
       " {('Aldair', 'plátano'), ('Alexa', 'piña'), ('Iván', 'pera')},\n",
       " {('Aldair', 'plátano'), ('Alexa', 'piña'), ('Iván', 'manzana')},\n",
       " {('Aldair', 'plátano'), ('Alexa', 'piña'), ('Iván', 'fresa')},\n",
       " {('Aldair', 'piña'), ('Alexa', 'pera'), ('Iván', 'manzana')},\n",
       " {('Aldair', 'piña'), ('Alexa', 'pera'), ('Iván', 'fresa')},\n",
       " {('Aldair', 'piña'), ('Alexa', 'pera'), ('Iván', 'plátano')},\n",
       " {('Aldair', 'manzana'), ('Alexa', 'pera'), ('Iván', 'piña')},\n",
       " {('Aldair', 'manzana'), ('Alexa', 'pera'), ('Iván', 'fresa')},\n",
       " {('Aldair', 'manzana'), ('Alexa', 'pera'), ('Iván', 'plátano')},\n",
       " {('Aldair', 'fresa'), ('Alexa', 'pera'), ('Iván', 'piña')},\n",
       " {('Aldair', 'fresa'), ('Alexa', 'pera'), ('Iván', 'manzana')},\n",
       " {('Aldair', 'fresa'), ('Alexa', 'pera'), ('Iván', 'plátano')},\n",
       " {('Aldair', 'plátano'), ('Alexa', 'pera'), ('Iván', 'piña')},\n",
       " {('Aldair', 'plátano'), ('Alexa', 'pera'), ('Iván', 'manzana')},\n",
       " {('Aldair', 'plátano'), ('Alexa', 'pera'), ('Iván', 'fresa')},\n",
       " {('Aldair', 'piña'), ('Alexa', 'manzana'), ('Iván', 'pera')},\n",
       " {('Aldair', 'piña'), ('Alexa', 'manzana'), ('Iván', 'fresa')},\n",
       " {('Aldair', 'piña'), ('Alexa', 'manzana'), ('Iván', 'plátano')},\n",
       " {('Aldair', 'pera'), ('Alexa', 'manzana'), ('Iván', 'piña')},\n",
       " {('Aldair', 'pera'), ('Alexa', 'manzana'), ('Iván', 'fresa')},\n",
       " {('Aldair', 'pera'), ('Alexa', 'manzana'), ('Iván', 'plátano')},\n",
       " {('Aldair', 'fresa'), ('Alexa', 'manzana'), ('Iván', 'piña')},\n",
       " {('Aldair', 'fresa'), ('Alexa', 'manzana'), ('Iván', 'pera')},\n",
       " {('Aldair', 'fresa'), ('Alexa', 'manzana'), ('Iván', 'plátano')},\n",
       " {('Aldair', 'plátano'), ('Alexa', 'manzana'), ('Iván', 'piña')},\n",
       " {('Aldair', 'plátano'), ('Alexa', 'manzana'), ('Iván', 'pera')},\n",
       " {('Aldair', 'plátano'), ('Alexa', 'manzana'), ('Iván', 'fresa')},\n",
       " {('Aldair', 'piña'), ('Alexa', 'fresa'), ('Iván', 'pera')},\n",
       " {('Aldair', 'piña'), ('Alexa', 'fresa'), ('Iván', 'manzana')},\n",
       " {('Aldair', 'piña'), ('Alexa', 'fresa'), ('Iván', 'plátano')},\n",
       " {('Aldair', 'pera'), ('Alexa', 'fresa'), ('Iván', 'piña')},\n",
       " {('Aldair', 'pera'), ('Alexa', 'fresa'), ('Iván', 'manzana')},\n",
       " {('Aldair', 'pera'), ('Alexa', 'fresa'), ('Iván', 'plátano')},\n",
       " {('Aldair', 'manzana'), ('Alexa', 'fresa'), ('Iván', 'piña')},\n",
       " {('Aldair', 'manzana'), ('Alexa', 'fresa'), ('Iván', 'pera')},\n",
       " {('Aldair', 'manzana'), ('Alexa', 'fresa'), ('Iván', 'plátano')},\n",
       " {('Aldair', 'plátano'), ('Alexa', 'fresa'), ('Iván', 'piña')},\n",
       " {('Aldair', 'plátano'), ('Alexa', 'fresa'), ('Iván', 'pera')},\n",
       " {('Aldair', 'plátano'), ('Alexa', 'fresa'), ('Iván', 'manzana')},\n",
       " {('Aldair', 'piña'), ('Alexa', 'plátano'), ('Iván', 'pera')},\n",
       " {('Aldair', 'piña'), ('Alexa', 'plátano'), ('Iván', 'manzana')},\n",
       " {('Aldair', 'piña'), ('Alexa', 'plátano'), ('Iván', 'fresa')},\n",
       " {('Aldair', 'pera'), ('Alexa', 'plátano'), ('Iván', 'piña')},\n",
       " {('Aldair', 'pera'), ('Alexa', 'plátano'), ('Iván', 'manzana')},\n",
       " {('Aldair', 'pera'), ('Alexa', 'plátano'), ('Iván', 'fresa')},\n",
       " {('Aldair', 'manzana'), ('Alexa', 'plátano'), ('Iván', 'piña')},\n",
       " {('Aldair', 'manzana'), ('Alexa', 'plátano'), ('Iván', 'pera')},\n",
       " {('Aldair', 'manzana'), ('Alexa', 'plátano'), ('Iván', 'fresa')},\n",
       " {('Aldair', 'fresa'), ('Alexa', 'plátano'), ('Iván', 'piña')},\n",
       " {('Aldair', 'fresa'), ('Alexa', 'plátano'), ('Iván', 'pera')},\n",
       " {('Aldair', 'fresa'), ('Alexa', 'plátano'), ('Iván', 'manzana')}]"
      ]
     },
     "execution_count": 35,
     "metadata": {},
     "output_type": "execute_result"
    }
   ],
   "source": [
    "In_AB=[f for f in F_AB if len(set(x[1] for x in f))==len(A)]\n",
    "In_AB"
   ]
  },
  {
   "cell_type": "code",
   "execution_count": 36,
   "metadata": {},
   "outputs": [
    {
     "data": {
      "text/plain": [
       "60"
      ]
     },
     "execution_count": 36,
     "metadata": {},
     "output_type": "execute_result"
    }
   ],
   "source": [
    "len(In_AB)"
   ]
  },
  {
   "cell_type": "markdown",
   "metadata": {},
   "source": [
    "$\\text{Hom}_{\\text{Set}}(B,A)$: El conjunto de funciones de $B$ en $A$."
   ]
  },
  {
   "cell_type": "code",
   "execution_count": 19,
   "metadata": {},
   "outputs": [
    {
     "name": "stdout",
     "output_type": "stream",
     "text": [
      "1 : {('manzana', 'Alexa'), ('plátano', 'Alexa'), ('fresa', 'Alexa')}\n",
      "2 : {('manzana', 'Alexa'), ('fresa', 'Alexa'), ('plátano', 'Aldair')}\n",
      "3 : {('plátano', 'Iván'), ('fresa', 'Alexa'), ('manzana', 'Alexa')}\n",
      "4 : {('manzana', 'Alexa'), ('plátano', 'Alexa'), ('fresa', 'Aldair')}\n",
      "5 : {('manzana', 'Alexa'), ('plátano', 'Aldair'), ('fresa', 'Aldair')}\n",
      "6 : {('plátano', 'Iván'), ('manzana', 'Alexa'), ('fresa', 'Aldair')}\n",
      "7 : {('fresa', 'Iván'), ('plátano', 'Alexa'), ('manzana', 'Alexa')}\n",
      "8 : {('fresa', 'Iván'), ('manzana', 'Alexa'), ('plátano', 'Aldair')}\n",
      "9 : {('fresa', 'Iván'), ('plátano', 'Iván'), ('manzana', 'Alexa')}\n",
      "10 : {('plátano', 'Alexa'), ('fresa', 'Alexa'), ('manzana', 'Aldair')}\n",
      "11 : {('fresa', 'Alexa'), ('plátano', 'Aldair'), ('manzana', 'Aldair')}\n",
      "12 : {('plátano', 'Iván'), ('fresa', 'Alexa'), ('manzana', 'Aldair')}\n",
      "13 : {('plátano', 'Alexa'), ('manzana', 'Aldair'), ('fresa', 'Aldair')}\n",
      "14 : {('manzana', 'Aldair'), ('plátano', 'Aldair'), ('fresa', 'Aldair')}\n",
      "15 : {('plátano', 'Iván'), ('manzana', 'Aldair'), ('fresa', 'Aldair')}\n",
      "16 : {('fresa', 'Iván'), ('plátano', 'Alexa'), ('manzana', 'Aldair')}\n",
      "17 : {('fresa', 'Iván'), ('manzana', 'Aldair'), ('plátano', 'Aldair')}\n",
      "18 : {('fresa', 'Iván'), ('plátano', 'Iván'), ('manzana', 'Aldair')}\n",
      "19 : {('plátano', 'Alexa'), ('fresa', 'Alexa'), ('manzana', 'Iván')}\n",
      "20 : {('fresa', 'Alexa'), ('plátano', 'Aldair'), ('manzana', 'Iván')}\n",
      "21 : {('plátano', 'Iván'), ('fresa', 'Alexa'), ('manzana', 'Iván')}\n",
      "22 : {('plátano', 'Alexa'), ('fresa', 'Aldair'), ('manzana', 'Iván')}\n",
      "23 : {('plátano', 'Aldair'), ('fresa', 'Aldair'), ('manzana', 'Iván')}\n",
      "24 : {('plátano', 'Iván'), ('fresa', 'Aldair'), ('manzana', 'Iván')}\n",
      "25 : {('fresa', 'Iván'), ('plátano', 'Alexa'), ('manzana', 'Iván')}\n",
      "26 : {('fresa', 'Iván'), ('plátano', 'Aldair'), ('manzana', 'Iván')}\n",
      "27 : {('fresa', 'Iván'), ('plátano', 'Iván'), ('manzana', 'Iván')}\n"
     ]
    }
   ],
   "source": [
    "BxA=[(i,j) for i in B for j in A]\n",
    "RelBA=powerset(BxA)\n",
    "\n",
    "j=0\n",
    "for i in RelBA:\n",
    "    if len(i)==len(B) and {k[0] for k in i}==set(B):\n",
    "        j+=1\n",
    "        print(j,':',set(i))"
   ]
  },
  {
   "cell_type": "code",
   "execution_count": 20,
   "metadata": {},
   "outputs": [
    {
     "data": {
      "text/plain": [
       "[{('Aldair', 'fresa'), ('Alexa', 'manzana'), ('Iván', 'plátano')},\n",
       " {('Aldair', 'plátano'), ('Alexa', 'manzana'), ('Iván', 'fresa')},\n",
       " {('Aldair', 'manzana'), ('Alexa', 'fresa'), ('Iván', 'plátano')},\n",
       " {('Aldair', 'plátano'), ('Alexa', 'fresa'), ('Iván', 'manzana')},\n",
       " {('Aldair', 'manzana'), ('Alexa', 'plátano'), ('Iván', 'fresa')},\n",
       " {('Aldair', 'fresa'), ('Alexa', 'plátano'), ('Iván', 'manzana')}]"
      ]
     },
     "execution_count": 20,
     "metadata": {},
     "output_type": "execute_result"
    }
   ],
   "source": [
    "In_AB=[f for f in F_AB if len(set(x[1] for x in f))==len(A)]\n",
    "In_AB"
   ]
  }
 ],
 "metadata": {
  "kernelspec": {
   "display_name": "Python 3",
   "language": "python",
   "name": "python3"
  },
  "language_info": {
   "codemirror_mode": {
    "name": "ipython",
    "version": 3
   },
   "file_extension": ".py",
   "mimetype": "text/x-python",
   "name": "python",
   "nbconvert_exporter": "python",
   "pygments_lexer": "ipython3",
   "version": "3.9.1"
  }
 },
 "nbformat": 4,
 "nbformat_minor": 2
}
