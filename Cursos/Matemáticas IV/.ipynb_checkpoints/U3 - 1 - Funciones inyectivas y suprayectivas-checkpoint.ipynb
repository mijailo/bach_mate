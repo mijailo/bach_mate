{
 "cells": [
  {
   "cell_type": "markdown",
   "metadata": {},
   "source": [
    "# Rutina para calcular el conjunto potencia"
   ]
  },
  {
   "cell_type": "code",
   "execution_count": 1,
   "metadata": {},
   "outputs": [],
   "source": [
    "def powerset(seq):\n",
    "    \"\"\"\n",
    "    Función generadora de todos los subconjuntos de una lista.\n",
    "    type(seq)=list\n",
    "    \"\"\"\n",
    "    if len(seq) <= 1:\n",
    "        yield seq\n",
    "        yield []\n",
    "    else:\n",
    "        for item in powerset(seq[1:]):\n",
    "            yield [seq[0]]+item\n",
    "            yield item"
   ]
  },
  {
   "cell_type": "markdown",
   "metadata": {},
   "source": [
    "# Rutina para calcular las funciones de A en B"
   ]
  },
  {
   "cell_type": "code",
   "execution_count": 8,
   "metadata": {},
   "outputs": [],
   "source": [
    "def funciones(A,B):\n",
    "    AxB=[(i,j) for i in A for j in B]\n",
    "    RelAB=powerset(AxB)\n",
    "    j=0\n",
    "    F_AB=[]\n",
    "    for i in RelAB:\n",
    "        if len(i)==len(A) and {k[0] for k in i}==set(A):\n",
    "            F_AB.append(set(i))\n",
    "    return F_AB"
   ]
  },
  {
   "cell_type": "markdown",
   "metadata": {},
   "source": [
    "# Rutina para calcular las funciones *inyectivas* de A en B"
   ]
  },
  {
   "cell_type": "code",
   "execution_count": 9,
   "metadata": {},
   "outputs": [],
   "source": [
    "def inyectivas(A,B):\n",
    "    In_AB=[f for f in funciones(A,B) if len(set(x[1] for x in f))==len(A)]\n",
    "    return In_AB"
   ]
  },
  {
   "cell_type": "markdown",
   "metadata": {},
   "source": [
    "# Ejemplo"
   ]
  },
  {
   "cell_type": "code",
   "execution_count": 10,
   "metadata": {},
   "outputs": [],
   "source": [
    "A=['p1','p2']\n",
    "B=['e1','e2','e3']\n",
    "F_AB=funciones(A,B)"
   ]
  },
  {
   "cell_type": "code",
   "execution_count": 11,
   "metadata": {},
   "outputs": [
    {
     "data": {
      "text/plain": [
       "[{('p1', 'e3'), ('p2', 'e3')},\n",
       " {('p1', 'e2'), ('p2', 'e3')},\n",
       " {('p1', 'e1'), ('p2', 'e3')},\n",
       " {('p1', 'e3'), ('p2', 'e2')},\n",
       " {('p1', 'e2'), ('p2', 'e2')},\n",
       " {('p1', 'e1'), ('p2', 'e2')},\n",
       " {('p1', 'e3'), ('p2', 'e1')},\n",
       " {('p1', 'e2'), ('p2', 'e1')},\n",
       " {('p1', 'e1'), ('p2', 'e1')}]"
      ]
     },
     "execution_count": 11,
     "metadata": {},
     "output_type": "execute_result"
    }
   ],
   "source": [
    "F_AB"
   ]
  },
  {
   "cell_type": "code",
   "execution_count": 12,
   "metadata": {},
   "outputs": [],
   "source": [
    "I_AB=inyectivas(A,B)"
   ]
  },
  {
   "cell_type": "code",
   "execution_count": 13,
   "metadata": {},
   "outputs": [
    {
     "data": {
      "text/plain": [
       "[{('p1', 'e2'), ('p2', 'e3')},\n",
       " {('p1', 'e1'), ('p2', 'e3')},\n",
       " {('p1', 'e3'), ('p2', 'e2')},\n",
       " {('p1', 'e1'), ('p2', 'e2')},\n",
       " {('p1', 'e3'), ('p2', 'e1')},\n",
       " {('p1', 'e2'), ('p2', 'e1')}]"
      ]
     },
     "execution_count": 13,
     "metadata": {},
     "output_type": "execute_result"
    }
   ],
   "source": [
    "I_AB"
   ]
  },
  {
   "cell_type": "markdown",
   "metadata": {},
   "source": [
    "# Ejercicio (8/feb/2021)"
   ]
  },
  {
   "cell_type": "markdown",
   "metadata": {},
   "source": [
    "1. Definir los conjuntos dominio (electores) y codominio (elegibles)."
   ]
  },
  {
   "cell_type": "code",
   "execution_count": 19,
   "metadata": {},
   "outputs": [],
   "source": [
    "A={'a','b','c'} #cadenas de caracteres (strings)\n",
    "B={1,2,3,4} #enteros"
   ]
  },
  {
   "cell_type": "markdown",
   "metadata": {},
   "source": [
    "2. Calcular las funciones inyectivas de $A$ en $B$."
   ]
  },
  {
   "cell_type": "code",
   "execution_count": 20,
   "metadata": {},
   "outputs": [],
   "source": [
    "Dylan=inyectivas(A,B) #Sale en teen wolf."
   ]
  },
  {
   "cell_type": "code",
   "execution_count": 24,
   "metadata": {},
   "outputs": [
    {
     "data": {
      "text/plain": [
       "[{('a', 4), ('b', 2), ('c', 3)},\n",
       " {('a', 4), ('b', 1), ('c', 3)},\n",
       " {('a', 4), ('b', 3), ('c', 2)},\n",
       " {('a', 4), ('b', 1), ('c', 2)},\n",
       " {('a', 4), ('b', 3), ('c', 1)},\n",
       " {('a', 4), ('b', 2), ('c', 1)},\n",
       " {('a', 3), ('b', 2), ('c', 4)},\n",
       " {('a', 3), ('b', 1), ('c', 4)},\n",
       " {('a', 3), ('b', 4), ('c', 2)},\n",
       " {('a', 3), ('b', 1), ('c', 2)},\n",
       " {('a', 3), ('b', 4), ('c', 1)},\n",
       " {('a', 3), ('b', 2), ('c', 1)},\n",
       " {('a', 2), ('b', 3), ('c', 4)},\n",
       " {('a', 2), ('b', 1), ('c', 4)},\n",
       " {('a', 2), ('b', 4), ('c', 3)},\n",
       " {('a', 2), ('b', 1), ('c', 3)},\n",
       " {('a', 2), ('b', 4), ('c', 1)},\n",
       " {('a', 2), ('b', 3), ('c', 1)},\n",
       " {('a', 1), ('b', 3), ('c', 4)},\n",
       " {('a', 1), ('b', 2), ('c', 4)},\n",
       " {('a', 1), ('b', 4), ('c', 3)},\n",
       " {('a', 1), ('b', 2), ('c', 3)},\n",
       " {('a', 1), ('b', 4), ('c', 2)},\n",
       " {('a', 1), ('b', 3), ('c', 2)}]"
      ]
     },
     "execution_count": 24,
     "metadata": {},
     "output_type": "execute_result"
    }
   ],
   "source": [
    "Dylan"
   ]
  },
  {
   "cell_type": "code",
   "execution_count": 25,
   "metadata": {},
   "outputs": [
    {
     "name": "stdout",
     "output_type": "stream",
     "text": [
      "Hay un total de 24 funciones inyectivas\n"
     ]
    }
   ],
   "source": [
    "print('Hay un total de {} funciones inyectivas'.format(len(Dylan)))"
   ]
  },
  {
   "cell_type": "markdown",
   "metadata": {},
   "source": [
    "__*Fun fact*__: Esto debe coincidir con las ordenaciones de $n=4$ en $k=3$:\n",
    "\n",
    "\\begin{equation}\n",
    "\\frac{4!}{(4-3)!}=4!=4\\cdot3\\cdot2\\cdot1=24\n",
    "\\end{equation}"
   ]
  },
  {
   "cell_type": "markdown",
   "metadata": {},
   "source": [
    "3. Obtener las funciones con rango $\\{1,3,4\\}$"
   ]
  },
  {
   "cell_type": "code",
   "execution_count": 28,
   "metadata": {},
   "outputs": [
    {
     "name": "stdout",
     "output_type": "stream",
     "text": [
      "1:\t{('c', 3), ('b', 1), ('a', 4)}\n",
      "2:\t{('a', 4), ('b', 3), ('c', 1)}\n",
      "3:\t{('b', 1), ('c', 4), ('a', 3)}\n",
      "4:\t{('a', 3), ('c', 1), ('b', 4)}\n",
      "5:\t{('c', 4), ('b', 3), ('a', 1)}\n",
      "6:\t{('c', 3), ('a', 1), ('b', 4)}\n"
     ]
    }
   ],
   "source": [
    "j=0\n",
    "for d in Dylan:\n",
    "    if set(e[1] for e in d)=={1,3,4}:\n",
    "        print('{}:\\t{}'.format(j+1,d))\n",
    "        j+=1"
   ]
  },
  {
   "cell_type": "markdown",
   "metadata": {},
   "source": [
    "4. ¿Qué tiene que ver este 6 con el 24, 4, 3?"
   ]
  },
  {
   "cell_type": "code",
   "execution_count": null,
   "metadata": {},
   "outputs": [],
   "source": []
  }
 ],
 "metadata": {
  "kernelspec": {
   "display_name": "Python 3",
   "language": "python",
   "name": "python3"
  },
  "language_info": {
   "codemirror_mode": {
    "name": "ipython",
    "version": 3
   },
   "file_extension": ".py",
   "mimetype": "text/x-python",
   "name": "python",
   "nbconvert_exporter": "python",
   "pygments_lexer": "ipython3",
   "version": "3.9.1"
  }
 },
 "nbformat": 4,
 "nbformat_minor": 4
}
