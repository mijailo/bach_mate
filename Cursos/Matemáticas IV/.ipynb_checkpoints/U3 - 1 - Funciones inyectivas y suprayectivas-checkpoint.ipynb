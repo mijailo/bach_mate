{
 "cells": [
  {
   "cell_type": "markdown",
   "metadata": {},
   "source": [
    "# Rutina para calcular el conjunto potencia"
   ]
  },
  {
   "cell_type": "code",
   "execution_count": 1,
   "metadata": {},
   "outputs": [],
   "source": [
    "def powerset(seq):\n",
    "    \"\"\"\n",
    "    Función generadora de todos los subconjuntos de una lista.\n",
    "    type(seq)=list\n",
    "    \"\"\"\n",
    "    if len(seq) <= 1:\n",
    "        yield seq\n",
    "        yield []\n",
    "    else:\n",
    "        for item in powerset(seq[1:]):\n",
    "            yield [seq[0]]+item\n",
    "            yield item"
   ]
  },
  {
   "cell_type": "markdown",
   "metadata": {},
   "source": [
    "# Rutina para calcular las funciones de A en B"
   ]
  },
  {
   "cell_type": "code",
   "execution_count": 8,
   "metadata": {},
   "outputs": [],
   "source": [
    "def funciones(A,B):\n",
    "    AxB=[(i,j) for i in A for j in B]\n",
    "    RelAB=powerset(AxB)\n",
    "    j=0\n",
    "    F_AB=[]\n",
    "    for i in RelAB:\n",
    "        if len(i)==len(A) and {k[0] for k in i}==set(A):\n",
    "            F_AB.append(set(i))\n",
    "    return F_AB"
   ]
  },
  {
   "cell_type": "markdown",
   "metadata": {},
   "source": [
    "# Rutina para calcular las funciones *inyectivas* de A en B"
   ]
  },
  {
   "cell_type": "code",
   "execution_count": 9,
   "metadata": {},
   "outputs": [],
   "source": [
    "def inyectivas(A,B):\n",
    "    In_AB=[f for f in funciones(A,B) if len(set(x[1] for x in f))==len(A)]\n",
    "    return In_AB"
   ]
  },
  {
   "cell_type": "markdown",
   "metadata": {},
   "source": [
    "# Ejemplo"
   ]
  },
  {
   "cell_type": "code",
   "execution_count": 10,
   "metadata": {},
   "outputs": [],
   "source": [
    "A=['p1','p2']\n",
    "B=['e1','e2','e3']\n",
    "F_AB=funciones(A,B)"
   ]
  },
  {
   "cell_type": "code",
   "execution_count": 11,
   "metadata": {},
   "outputs": [
    {
     "data": {
      "text/plain": [
       "[{('p1', 'e3'), ('p2', 'e3')},\n",
       " {('p1', 'e2'), ('p2', 'e3')},\n",
       " {('p1', 'e1'), ('p2', 'e3')},\n",
       " {('p1', 'e3'), ('p2', 'e2')},\n",
       " {('p1', 'e2'), ('p2', 'e2')},\n",
       " {('p1', 'e1'), ('p2', 'e2')},\n",
       " {('p1', 'e3'), ('p2', 'e1')},\n",
       " {('p1', 'e2'), ('p2', 'e1')},\n",
       " {('p1', 'e1'), ('p2', 'e1')}]"
      ]
     },
     "execution_count": 11,
     "metadata": {},
     "output_type": "execute_result"
    }
   ],
   "source": [
    "F_AB"
   ]
  },
  {
   "cell_type": "code",
   "execution_count": 12,
   "metadata": {},
   "outputs": [],
   "source": [
    "I_AB=inyectivas(A,B)"
   ]
  },
  {
   "cell_type": "code",
   "execution_count": 13,
   "metadata": {},
   "outputs": [
    {
     "data": {
      "text/plain": [
       "[{('p1', 'e2'), ('p2', 'e3')},\n",
       " {('p1', 'e1'), ('p2', 'e3')},\n",
       " {('p1', 'e3'), ('p2', 'e2')},\n",
       " {('p1', 'e1'), ('p2', 'e2')},\n",
       " {('p1', 'e3'), ('p2', 'e1')},\n",
       " {('p1', 'e2'), ('p2', 'e1')}]"
      ]
     },
     "execution_count": 13,
     "metadata": {},
     "output_type": "execute_result"
    }
   ],
   "source": [
    "I_AB"
   ]
  },
  {
   "cell_type": "code",
   "execution_count": null,
   "metadata": {},
   "outputs": [],
   "source": []
  }
 ],
 "metadata": {
  "kernelspec": {
   "display_name": "Python 3",
   "language": "python",
   "name": "python3"
  },
  "language_info": {
   "codemirror_mode": {
    "name": "ipython",
    "version": 3
   },
   "file_extension": ".py",
   "mimetype": "text/x-python",
   "name": "python",
   "nbconvert_exporter": "python",
   "pygments_lexer": "ipython3",
   "version": "3.9.1"
  }
 },
 "nbformat": 4,
 "nbformat_minor": 4
}
