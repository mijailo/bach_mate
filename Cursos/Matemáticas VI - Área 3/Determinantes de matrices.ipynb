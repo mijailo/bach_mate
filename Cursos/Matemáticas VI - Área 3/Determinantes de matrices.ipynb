{
 "cells": [
  {
   "cell_type": "markdown",
   "id": "86f52b49",
   "metadata": {},
   "source": [
    "# Cálculo de determinantes de matrices con `numpy`"
   ]
  },
  {
   "cell_type": "markdown",
   "id": "f2fc78fa",
   "metadata": {},
   "source": [
    "Vamos a calcular con la computadora el determinante de esta matriz:\n",
    "$$\n",
    "\\begin{pmatrix}\n",
    "        12 & 7 & 0 \\\\\n",
    "        6 & 7 & 0 \\\\\n",
    "        5 & 8 & 3\n",
    "\\end{pmatrix}\n",
    "$$"
   ]
  },
  {
   "cell_type": "code",
   "execution_count": 1,
   "id": "976efd47",
   "metadata": {},
   "outputs": [],
   "source": [
    "import numpy as np"
   ]
  },
  {
   "cell_type": "code",
   "execution_count": 3,
   "id": "0a2212cc",
   "metadata": {},
   "outputs": [
    {
     "name": "stdout",
     "output_type": "stream",
     "text": [
      "[[12  7  0]\n",
      " [ 6  7  0]\n",
      " [ 5  8  3]]\n"
     ]
    }
   ],
   "source": [
    "A=np.array([\n",
    "    [12, 7, 0],\n",
    "    [6, 7, 0],\n",
    "    [5, 8, 3]]\n",
    ")\n",
    "print(A)"
   ]
  },
  {
   "cell_type": "markdown",
   "id": "e45d177e",
   "metadata": {},
   "source": [
    "_Recuerden que los intervalos en `Python` son *cerrados por la izquierda y abiertos por la derecha*_"
   ]
  },
  {
   "cell_type": "code",
   "execution_count": 7,
   "id": "21f8c871",
   "metadata": {
    "scrolled": true
   },
   "outputs": [
    {
     "name": "stdout",
     "output_type": "stream",
     "text": [
      "0\n",
      "1\n",
      "2\n",
      "3\n",
      "4\n"
     ]
    }
   ],
   "source": [
    "for i in range(5):\n",
    "    print(i)"
   ]
  },
  {
   "cell_type": "markdown",
   "id": "72286060",
   "metadata": {},
   "source": [
    "La entrada $a_{23}$ de $A$ se representará en la computadora como `A[1,2]`"
   ]
  },
  {
   "cell_type": "code",
   "execution_count": 8,
   "id": "0563af5a",
   "metadata": {
    "scrolled": true
   },
   "outputs": [
    {
     "data": {
      "text/plain": [
       "0"
      ]
     },
     "execution_count": 8,
     "metadata": {},
     "output_type": "execute_result"
    }
   ],
   "source": [
    "A[1,2]"
   ]
  },
  {
   "cell_type": "markdown",
   "id": "76f502be",
   "metadata": {},
   "source": [
    "Para obtener el determinante de $A$ ($\\det A=|A|$), recurrimos a la función `np.linalg.det()`"
   ]
  },
  {
   "cell_type": "code",
   "execution_count": 10,
   "id": "5fb82939",
   "metadata": {},
   "outputs": [
    {
     "data": {
      "text/plain": [
       "126.0"
      ]
     },
     "execution_count": 10,
     "metadata": {},
     "output_type": "execute_result"
    }
   ],
   "source": [
    "np.linalg.det(A)"
   ]
  },
  {
   "cell_type": "markdown",
   "id": "5dca24ab",
   "metadata": {},
   "source": [
    "Repetimos este procedimiento para los demás incisos:"
   ]
  },
  {
   "cell_type": "code",
   "execution_count": 11,
   "id": "f4fdb1cb",
   "metadata": {},
   "outputs": [
    {
     "data": {
      "text/plain": [
       "-62.99999999999999"
      ]
     },
     "execution_count": 11,
     "metadata": {},
     "output_type": "execute_result"
    }
   ],
   "source": [
    "np.linalg.det(\n",
    "    [\n",
    "        [8,3,2],\n",
    "        [5,1,3],\n",
    "        [6,4,7]\n",
    "    ]\n",
    ")"
   ]
  },
  {
   "cell_type": "code",
   "execution_count": 12,
   "id": "ac87f650",
   "metadata": {},
   "outputs": [
    {
     "data": {
      "text/plain": [
       "282.00000000000006"
      ]
     },
     "execution_count": 12,
     "metadata": {},
     "output_type": "execute_result"
    }
   ],
   "source": [
    "np.linalg.det(\n",
    "    [\n",
    "        [2,5,8,3],\n",
    "        [3,10,2,1],\n",
    "        [2,4,7,1],\n",
    "        [1,15,0,4]\n",
    "    ]\n",
    ")"
   ]
  },
  {
   "cell_type": "code",
   "execution_count": null,
   "id": "120b4bee",
   "metadata": {},
   "outputs": [],
   "source": []
  }
 ],
 "metadata": {
  "kernelspec": {
   "display_name": "Python 3 (ipykernel)",
   "language": "python",
   "name": "python3"
  },
  "language_info": {
   "codemirror_mode": {
    "name": "ipython",
    "version": 3
   },
   "file_extension": ".py",
   "mimetype": "text/x-python",
   "name": "python",
   "nbconvert_exporter": "python",
   "pygments_lexer": "ipython3",
   "version": "3.9.7"
  }
 },
 "nbformat": 4,
 "nbformat_minor": 5
}
