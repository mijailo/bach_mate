{
 "cells": [
  {
   "cell_type": "markdown",
   "id": "34e9af5b",
   "metadata": {},
   "source": [
    "# Cálculo de determinantes de matrices con `numpy`"
   ]
  },
  {
   "cell_type": "markdown",
   "id": "ec2149b0",
   "metadata": {},
   "source": [
    "Vamos a calcular con la computadora el determinante de esta matriz:\n",
    "$$\n",
    "\\begin{pmatrix}\n",
    "        12 & 7 & 0 \\\\\n",
    "        6 & 7 & 0 \\\\\n",
    "        5 & 8 & 3\n",
    "\\end{pmatrix}\n",
    "$$"
   ]
  },
  {
   "cell_type": "code",
   "execution_count": 1,
   "id": "c273176f",
   "metadata": {},
   "outputs": [],
   "source": [
    "import numpy as np"
   ]
  },
  {
   "cell_type": "code",
   "execution_count": 3,
   "id": "e421ecc5",
   "metadata": {},
   "outputs": [
    {
     "name": "stdout",
     "output_type": "stream",
     "text": [
      "[[12  7  0]\n",
      " [ 6  7  0]\n",
      " [ 5  8  3]]\n"
     ]
    }
   ],
   "source": [
    "A=np.array([\n",
    "    [12, 7, 0],\n",
    "    [6, 7, 0],\n",
    "    [5, 8, 3]]\n",
    ")\n",
    "print(A)"
   ]
  },
  {
   "cell_type": "markdown",
   "id": "03dd870d",
   "metadata": {},
   "source": [
    "_Recuerden que los intervalos en `Python` son *cerrados por la izquierda y abiertos por la derecha*_"
   ]
  },
  {
   "cell_type": "code",
   "execution_count": 7,
   "id": "0748e87a",
   "metadata": {
    "scrolled": true
   },
   "outputs": [
    {
     "name": "stdout",
     "output_type": "stream",
     "text": [
      "0\n",
      "1\n",
      "2\n",
      "3\n",
      "4\n"
     ]
    }
   ],
   "source": [
    "for i in range(5):\n",
    "    print(i)"
   ]
  },
  {
   "cell_type": "markdown",
   "id": "a334adf8",
   "metadata": {},
   "source": [
    "La entrada $a_{23}$ de $A$ se representará en la computadora como `A[1,2]`"
   ]
  },
  {
   "cell_type": "code",
   "execution_count": 8,
   "id": "ce878cee",
   "metadata": {
    "scrolled": true
   },
   "outputs": [
    {
     "data": {
      "text/plain": [
       "0"
      ]
     },
     "execution_count": 8,
     "metadata": {},
     "output_type": "execute_result"
    }
   ],
   "source": [
    "A[1,2]"
   ]
  },
  {
   "cell_type": "markdown",
   "id": "a448a634",
   "metadata": {},
   "source": [
    "Para obtener el determinante de $A$ ($\\det A=|A|$), recurrimos a la función `np.linalg.det()`"
   ]
  },
  {
   "cell_type": "code",
   "execution_count": 10,
   "id": "6a3db69d",
   "metadata": {},
   "outputs": [
    {
     "data": {
      "text/plain": [
       "126.0"
      ]
     },
     "execution_count": 10,
     "metadata": {},
     "output_type": "execute_result"
    }
   ],
   "source": [
    "np.linalg.det(A)"
   ]
  },
  {
   "cell_type": "markdown",
   "id": "226c0e36",
   "metadata": {},
   "source": [
    "Repetimos este procedimiento para los demás incisos:"
   ]
  },
  {
   "cell_type": "code",
   "execution_count": 11,
   "id": "d26d5f93",
   "metadata": {
    "scrolled": true
   },
   "outputs": [
    {
     "data": {
      "text/plain": [
       "-62.99999999999999"
      ]
     },
     "execution_count": 11,
     "metadata": {},
     "output_type": "execute_result"
    }
   ],
   "source": [
    "np.linalg.det(\n",
    "    [\n",
    "        [8,3,2],\n",
    "        [5,1,3],\n",
    "        [6,4,7]\n",
    "    ]\n",
    ")"
   ]
  },
  {
   "cell_type": "code",
   "execution_count": 12,
   "id": "2d6fcfac",
   "metadata": {},
   "outputs": [
    {
     "data": {
      "text/plain": [
       "282.00000000000006"
      ]
     },
     "execution_count": 12,
     "metadata": {},
     "output_type": "execute_result"
    }
   ],
   "source": [
    "np.linalg.det(\n",
    "    [\n",
    "        [2,5,8,3],\n",
    "        [3,10,2,1],\n",
    "        [2,4,7,1],\n",
    "        [1,15,0,4]\n",
    "    ]\n",
    ")"
   ]
  },
  {
   "cell_type": "markdown",
   "id": "8a7f5e88",
   "metadata": {},
   "source": [
    "## Adjunta de una matriz\n",
    "\n",
    "No hay una función que directamente calcule la adjunta de una matriz. Sin embargo, se puede obtener de forma indirecta mediante la inversa y el determinante. Por ejemplo, para la matriz `A` definida en las primeras celdas, la adjunta se calcula así:\n",
    "$$ \\text{Adj}(A)=\\det A \\times A^{-1}$$"
   ]
  },
  {
   "cell_type": "code",
   "execution_count": 14,
   "id": "c5c46f49",
   "metadata": {},
   "outputs": [
    {
     "data": {
      "text/plain": [
       "array([[ 21., -21.,   0.],\n",
       "       [-18.,  36.,   0.],\n",
       "       [ 13., -61.,  42.]])"
      ]
     },
     "execution_count": 14,
     "metadata": {},
     "output_type": "execute_result"
    }
   ],
   "source": [
    "np.linalg.inv(A)*np.linalg.det(A)"
   ]
  },
  {
   "cell_type": "markdown",
   "id": "0d79d24a",
   "metadata": {},
   "source": [
    "$$B:=\\begin{pmatrix} \n",
    "1 & -1 & 1 \\\\\n",
    "0 & 2 & -1 \\\\\n",
    "1 & 0 & 0\n",
    "\\end{pmatrix}$$"
   ]
  },
  {
   "cell_type": "code",
   "execution_count": 15,
   "id": "6c064626",
   "metadata": {},
   "outputs": [],
   "source": [
    "B=np.array([\n",
    "    [1,-1,1],\n",
    "    [0,2,-1],\n",
    "    [1,0,0]\n",
    "])"
   ]
  },
  {
   "cell_type": "markdown",
   "id": "78019a8f",
   "metadata": {},
   "source": [
    "Juntamos en una sola función el determinante y la inversa, para obtener la adjunta:"
   ]
  },
  {
   "cell_type": "code",
   "execution_count": 16,
   "id": "589eefbf",
   "metadata": {},
   "outputs": [],
   "source": [
    "def adj(X):\n",
    "    return np.linalg.inv(X)*np.linalg.det(X)"
   ]
  },
  {
   "cell_type": "code",
   "execution_count": 17,
   "id": "4a18d27e",
   "metadata": {},
   "outputs": [
    {
     "data": {
      "text/plain": [
       "array([[-0., -0., -1.],\n",
       "       [-1., -1.,  1.],\n",
       "       [-2., -1.,  2.]])"
      ]
     },
     "execution_count": 17,
     "metadata": {},
     "output_type": "execute_result"
    }
   ],
   "source": [
    "adj(B)"
   ]
  },
  {
   "cell_type": "code",
   "execution_count": null,
   "id": "659568ad",
   "metadata": {},
   "outputs": [],
   "source": []
  }
 ],
 "metadata": {
  "kernelspec": {
   "display_name": "Python 3 (ipykernel)",
   "language": "python",
   "name": "python3"
  },
  "language_info": {
   "codemirror_mode": {
    "name": "ipython",
    "version": 3
   },
   "file_extension": ".py",
   "mimetype": "text/x-python",
   "name": "python",
   "nbconvert_exporter": "python",
   "pygments_lexer": "ipython3",
   "version": "3.9.7"
  }
 },
 "nbformat": 4,
 "nbformat_minor": 5
}
