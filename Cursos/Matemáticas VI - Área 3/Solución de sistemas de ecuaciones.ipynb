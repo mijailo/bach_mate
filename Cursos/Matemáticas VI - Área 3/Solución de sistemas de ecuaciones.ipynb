{
 "cells": [
  {
   "cell_type": "markdown",
   "metadata": {},
   "source": [
    "# <font color='crimson'> Preámbulos </font>\n",
    "\n",
    "Con una compu se pueden resolver sistemas de ecuaciones lineales (_y más_). Basta utilizar la paquetería adecuada y entender la forma de introducir los datos del problema en cuestión.\n",
    "\n",
    "## <font color='crimson'> Ejemplos </font>\n",
    "\n",
    "**1.** Primero vamos a resolver esta cosa:\n",
    "\n",
    "\\begin{align}\n",
    "4x+3y+2z=25 \\\\\n",
    "-2x+2y+3z=-10 \\\\\n",
    "3x-5y+2z=-4\n",
    "\\end{align}\n",
    "\n",
    "Pasamos a la forma de matriz aumentada:\n",
    "\n",
    "\\begin{equation}\n",
    "\\begin{pmatrix}\n",
    "   4 & 3 & 2 & \\large{\\vert} & 25 \\\\\n",
    "   -2 & 2 & 3 & \\large{\\vert} & -10 \\\\\n",
    "   3 & -5 & 2 & \\large{\\vert} & -4\n",
    "\\end{pmatrix}\n",
    "\\end{equation}\n",
    "\n",
    "Luego escribimos los coeficientes en un par de [_arreglos_](https://en.wikipedia.org/wiki/Array_data_structure) llamados (arbitrariamente) `A` y `b`:"
   ]
  },
  {
   "cell_type": "code",
   "execution_count": 1,
   "metadata": {},
   "outputs": [],
   "source": [
    "A=[\n",
    "    [4, 3, 2],\n",
    "    [-2, 2, 3],\n",
    "    [3, -5, 2]\n",
    "]\n",
    "\n",
    "b=[\n",
    "    25,\n",
    "    -10,\n",
    "    -4\n",
    "]"
   ]
  },
  {
   "cell_type": "markdown",
   "metadata": {},
   "source": [
    "(`A` contiene los coeficientes de las incógnitas y `b` las constantes).<br>\n",
    "Importamos la función `linalg.solve` de la biblioteca [NumPy](https://numpy.org/) (_Numerical Python_) y le ponemos un alias jocoso."
   ]
  },
  {
   "cell_type": "code",
   "execution_count": 2,
   "metadata": {},
   "outputs": [],
   "source": [
    "from numpy.linalg import solve as juan_gabriel"
   ]
  },
  {
   "cell_type": "markdown",
   "metadata": {},
   "source": [
    "Calculamos la solución:"
   ]
  },
  {
   "cell_type": "code",
   "execution_count": 3,
   "metadata": {},
   "outputs": [
    {
     "name": "stdout",
     "output_type": "stream",
     "text": [
      "x=5.0,\ty=3.0,\tz=-2.0\n"
     ]
    }
   ],
   "source": [
    "solucion=juan_gabriel(A,b)\n",
    "print('x={},\\ty={},\\tz={}'.format(*solucion))"
   ]
  },
  {
   "cell_type": "markdown",
   "metadata": {},
   "source": [
    "Y la verificamos utilizando `A` y `b`:"
   ]
  },
  {
   "cell_type": "code",
   "execution_count": 4,
   "metadata": {},
   "outputs": [
    {
     "data": {
      "text/plain": [
       "[25.0, -10.0, -4.0]"
      ]
     },
     "execution_count": 4,
     "metadata": {},
     "output_type": "execute_result"
    }
   ],
   "source": [
    "bb=[sum([i*j for i,j in zip(I,solucion)]) for I in A]\n",
    "bb"
   ]
  },
  {
   "cell_type": "markdown",
   "metadata": {},
   "source": [
    "Esta cosa debe ser igual a `b`."
   ]
  },
  {
   "cell_type": "code",
   "execution_count": 5,
   "metadata": {},
   "outputs": [
    {
     "data": {
      "text/plain": [
       "True"
      ]
     },
     "execution_count": 5,
     "metadata": {},
     "output_type": "execute_result"
    }
   ],
   "source": [
    "b==bb"
   ]
  },
  {
   "cell_type": "code",
   "execution_count": null,
   "metadata": {},
   "outputs": [],
   "source": []
  }
 ],
 "metadata": {
  "kernelspec": {
   "display_name": "Python 3",
   "language": "python",
   "name": "python3"
  },
  "language_info": {
   "codemirror_mode": {
    "name": "ipython",
    "version": 3
   },
   "file_extension": ".py",
   "mimetype": "text/x-python",
   "name": "python",
   "nbconvert_exporter": "python",
   "pygments_lexer": "ipython3",
   "version": "3.9.1"
  }
 },
 "nbformat": 4,
 "nbformat_minor": 4
}
