{
 "cells": [
  {
   "cell_type": "markdown",
   "metadata": {},
   "source": [
    "# <font color='crimson'> Preámbulos </font>\n",
    "\n",
    "Con una compu se pueden resolver sistemas de ecuaciones lineales (_y más_) fácilmente. Basta utilizar la [paquetería adecuada](https://learnpython.com/blog/python-modules-packages-libraries-frameworks/), y entender la forma particular de introducir los datos (o _las variables_) del problema en cuestión.\n",
    "\n",
    "## <font color='crimson'> Ejemplos </font>\n",
    "\n",
    "### Ejemplo 1\n",
    "\n",
    "Primero vamos a resolver este sistema:\n",
    "\n",
    "\\begin{align*}\n",
    "4x+3y+2z=25 \\\\\n",
    "-2x+2y+3z=-10 \\\\\n",
    "3x-5y+2z=-4\n",
    "\\end{align*}\n",
    "\n",
    "> **Nota** Es importante resaltar que las ecuaciones de este sistema están escritas en forma canónica: _incógnitas del lado izquierdo, constantes en el derecho_.\n",
    "\n",
    "Utilizamos la representación en _**matriz aumentada**_:\n",
    "\n",
    "\\begin{equation*}\n",
    "\\left(\\begin{array}{ccc|c}\n",
    "   4 & 3 & 2 & 25 \\\\\n",
    "   -2 & 2 & 3 & -10 \\\\\n",
    "   3 & -5 & 2 & -4\n",
    "\\end{array}\\right)\n",
    "\\end{equation*}\n",
    "\n",
    "Luego escribimos los coeficientes y las constantes en un par de [_arreglos_](https://en.wikipedia.org/wiki/Array_data_structure), que nombraremos (arbitrariamente) `A` y `b`:"
   ]
  },
  {
   "cell_type": "code",
   "execution_count": 1,
   "metadata": {},
   "outputs": [],
   "source": [
    "A=[\n",
    "    [4, 3, 2],\n",
    "    [-2, 2, 3],\n",
    "    [3, -5, 2]\n",
    "]\n",
    "\n",
    "b=[\n",
    "    25,\n",
    "    -10,\n",
    "    -4\n",
    "]"
   ]
  },
  {
   "cell_type": "markdown",
   "metadata": {},
   "source": [
    "(`A` contiene los coeficientes de las incógnitas $(x, y, z)$ y `b` las constantes de las ecuaciones).<br>\n",
    "\n",
    "Ahora, importamos la función `linalg.solve` de la biblioteca [**`NumPy`**  (_Numerical Python_) ](https://numpy.org/)y le ponemos un alias jocoso: `juan_gabriel` para referirnos a él.\n",
    "\n",
    "> **Nota**: Suele ser conveniente utilizar [alias cortos, contextualizados](https://pythontic.com/concepts/keywords/as)."
   ]
  },
  {
   "cell_type": "code",
   "execution_count": 2,
   "metadata": {},
   "outputs": [],
   "source": [
    "from numpy.linalg import solve as juan_gabriel\n",
    "# O bien:\n",
    "# from numpy.linalg import solve as sol"
   ]
  },
  {
   "cell_type": "markdown",
   "metadata": {},
   "source": [
    "Calculamos la solución:"
   ]
  },
  {
   "cell_type": "code",
   "execution_count": 3,
   "metadata": {},
   "outputs": [
    {
     "name": "stdout",
     "output_type": "stream",
     "text": [
      "La solución es:\n",
      "\n",
      "\t x=5.0,\ty=3.0,\tz=-2.0\n",
      "\n"
     ]
    }
   ],
   "source": [
    "solucion=juan_gabriel(A,b)\n",
    "# O bien:\n",
    "# solucion=sol(A,b)\n",
    "print('La solución es:\\n\\n\\t x={},\\ty={},\\tz={}\\n'.format(*solucion))"
   ]
  },
  {
   "cell_type": "markdown",
   "metadata": {},
   "source": [
    "Y la verificamos utilizando los coeficientes en `A` multiplicados por los valores correspondientes de `solucion`:"
   ]
  },
  {
   "cell_type": "code",
   "execution_count": 4,
   "metadata": {},
   "outputs": [
    {
     "data": {
      "text/plain": [
       "[25.0, -10.0, -4.0]"
      ]
     },
     "execution_count": 4,
     "metadata": {},
     "output_type": "execute_result"
    }
   ],
   "source": [
    "bb=[sum([i*j for i,j in zip(I,solucion)]) for I in A]\n",
    "bb"
   ]
  },
  {
   "cell_type": "markdown",
   "metadata": {},
   "source": [
    "Esta cosa debe ser igual a `b`."
   ]
  },
  {
   "cell_type": "code",
   "execution_count": 5,
   "metadata": {},
   "outputs": [
    {
     "data": {
      "text/plain": [
       "True"
      ]
     },
     "execution_count": 5,
     "metadata": {},
     "output_type": "execute_result"
    }
   ],
   "source": [
    "b==bb"
   ]
  },
  {
   "cell_type": "markdown",
   "metadata": {},
   "source": [
    "### Ejemplo 2\n",
    "\n",
    "Ahora vamos a resolver este sistema:\n",
    "\n",
    "\\begin{align*}\n",
    "2x-y=5 \\\\\n",
    "5x+3z=19 \\\\\n",
    "4y+7z=17\n",
    "\\end{align*}\n",
    "\n",
    "Empezamos con la representación en _**matriz aumentada**_:\n",
    "\n",
    "\\begin{equation*}\n",
    "\\left(\\begin{array}{ccc|c}\n",
    "   2 & -1 & 0 & 5 \\\\\n",
    "   5 & 0 & 3 & 19 \\\\\n",
    "   0 & 4 & 7 & 17\n",
    "\\end{array}\\right)\n",
    "\\end{equation*}\n",
    "\n",
    "> **Nota**: Los coeficientes de las incógnitas que no aparecen en una ecuación son iguales a cero.\n",
    "\n",
    "Luego introducimos coeficientes y constantes:\n",
    "\n",
    "> **Nota**: Podemos reutilizar las variables `A` y `b` del problema anterior."
   ]
  },
  {
   "cell_type": "code",
   "execution_count": 6,
   "metadata": {},
   "outputs": [],
   "source": [
    "A=[\n",
    "    [2, -1, 0],\n",
    "    [5, 0, 3],\n",
    "    [0, 4, 7]\n",
    "]\n",
    "\n",
    "b=[5,19,17]\n",
    "\n",
    "#    Lo que hicimos en el problema anterior fue introducir tabulaciones y saltos de línea\n",
    "# para escribir a b lo más parecido a una matriz columna, aunque es suficiente utilizar una\n",
    "# lista con las entradas de b separadas por comas."
   ]
  },
  {
   "cell_type": "markdown",
   "metadata": {},
   "source": [
    "(Como antes, `A` contiene los coeficientes de las incógnitas $(x, y, z)$ y `b` las constantes de las ecuaciones).<br>\n",
    "\n",
    "Ya no es necesario hacer la importación de la función `linalg.solve`. Sólo la volvemos a ocupar (mediante su alias),"
   ]
  },
  {
   "cell_type": "code",
   "execution_count": 11,
   "metadata": {},
   "outputs": [
    {
     "name": "stdout",
     "output_type": "stream",
     "text": [
      "La solución es:\n",
      "\n",
      "\t x=2.0,\ty=-1.0,\tz=3.0\n",
      "\n"
     ]
    }
   ],
   "source": [
    "solucion=juan_gabriel(A,b)\n",
    "print('La solución es:\\n\\n\\t x={},\\ty={},\\tz={}\\n'.format(*solucion))"
   ]
  },
  {
   "cell_type": "markdown",
   "metadata": {},
   "source": [
    "Ahora, verificamos la respuesta de una forma \"alternativa\" a la del ejemplo 1: utilizando la _multiplicación matricial_ de `A` (de dimensión $3 \\times 3$) por la variable `solucion` (de dimensión $3 \\times 1$). Para lograr esta multiplicación matricial (cuyo resultado será una matriz de $3 \\times 1$), podemos importar la función `dot` de la biblioteca `Numpy`."
   ]
  },
  {
   "cell_type": "code",
   "execution_count": 8,
   "metadata": {},
   "outputs": [],
   "source": [
    "from numpy import dot\n",
    "# La función dot ya tiene un nombre corto, así que no hace falta ningún alias."
   ]
  },
  {
   "cell_type": "code",
   "execution_count": 9,
   "metadata": {},
   "outputs": [
    {
     "data": {
      "text/plain": [
       "array([ 5., 19., 17.])"
      ]
     },
     "execution_count": 9,
     "metadata": {},
     "output_type": "execute_result"
    }
   ],
   "source": [
    "dot(A,solucion)"
   ]
  },
  {
   "cell_type": "markdown",
   "metadata": {},
   "source": [
    "El resultado de esta multiplicación es, en efecto, igual a la matriz columna `b`."
   ]
  },
  {
   "cell_type": "code",
   "execution_count": 10,
   "metadata": {},
   "outputs": [
    {
     "data": {
      "text/plain": [
       "[5, 19, 17]"
      ]
     },
     "execution_count": 10,
     "metadata": {},
     "output_type": "execute_result"
    }
   ],
   "source": [
    "b"
   ]
  },
  {
   "cell_type": "markdown",
   "metadata": {},
   "source": [
    "> **Nota**: El resultado de:\n",
    ">* `dot(A,solucion)`\n",
    ">\n",
    "> es equivalente al de: \n",
    ">* `[sum([i*j for i,j in zip(I,solucion)]) for I in A]`\n",
    ">\n",
    "> (escrito a partir de puras [**funciones integradas** de **`Python`**](https://docs.python.org/3/library/functions.html))."
   ]
  },
  {
   "cell_type": "code",
   "execution_count": null,
   "metadata": {},
   "outputs": [],
   "source": []
  }
 ],
 "metadata": {
  "kernelspec": {
   "display_name": "Python 3 (ipykernel)",
   "language": "python",
   "name": "python3"
  },
  "language_info": {
   "codemirror_mode": {
    "name": "ipython",
    "version": 3
   },
   "file_extension": ".py",
   "mimetype": "text/x-python",
   "name": "python",
   "nbconvert_exporter": "python",
   "pygments_lexer": "ipython3",
   "version": "3.10.1"
  },
  "widgets": {
   "application/vnd.jupyter.widget-state+json": {
    "state": {},
    "version_major": 2,
    "version_minor": 0
   }
  }
 },
 "nbformat": 4,
 "nbformat_minor": 4
}
