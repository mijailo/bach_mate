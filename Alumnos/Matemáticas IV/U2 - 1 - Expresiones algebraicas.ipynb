{
 "cells": [
  {
   "cell_type": "markdown",
   "metadata": {},
   "source": [
    "# Expresiones algebraicas"
   ]
  },
  {
   "cell_type": "markdown",
   "metadata": {},
   "source": [
    "__*Importar biblioteca de cálculo simbólico [SymPy](https://www.sympy.org/en/index.html)*__"
   ]
  },
  {
   "cell_type": "code",
   "execution_count": 1,
   "metadata": {},
   "outputs": [],
   "source": [
    "import sympy as sym"
   ]
  },
  {
   "cell_type": "markdown",
   "metadata": {},
   "source": [
    "__*Un primer ejemplo de cálculo simbólico: primero definimos dos variables $x$, $y$:*__"
   ]
  },
  {
   "cell_type": "code",
   "execution_count": 2,
   "metadata": {},
   "outputs": [],
   "source": [
    "x = sym.Symbol('x')\n",
    "y = sym.Symbol('y')"
   ]
  },
  {
   "cell_type": "markdown",
   "metadata": {},
   "source": [
    "__*Vamos a ver la expansión del cubo de su suma:*__\n",
    "\\begin{equation}\n",
    "(x+y)^3=\\sum_{i=0}^3 \\binom{3}{i} x^{3-i}y^{i}=\\binom{3}{0}x^3+\\binom{3}{1}x^2y+\\binom{3}{2}xy^2+\\binom{3}{3}y^3=x^3+3x^2y+3xy^2+y^3\n",
    "\\end{equation}"
   ]
  },
  {
   "cell_type": "code",
   "execution_count": 3,
   "metadata": {},
   "outputs": [
    {
     "data": {
      "text/latex": [
       "$\\displaystyle x^{3} + 3 x^{2} y + 3 x y^{2} + y^{3}$"
      ],
      "text/plain": [
       "x**3 + 3*x**2*y + 3*x*y**2 + y**3"
      ]
     },
     "execution_count": 3,
     "metadata": {},
     "output_type": "execute_result"
    }
   ],
   "source": [
    "sym.expand((x + y) ** 3)"
   ]
  },
  {
   "cell_type": "markdown",
   "metadata": {},
   "source": [
    "__*Igual una simplificación: Supongamos que $x\\neq y$; entonces:*__\n",
    "\n",
    "\\begin{equation}\n",
    "\\frac{x^2-2xy+y^2}{x-y}=\\frac{(x-y)(x-y)}{x-y}=x-y\n",
    "\\end{equation}"
   ]
  },
  {
   "cell_type": "code",
   "execution_count": 4,
   "metadata": {},
   "outputs": [
    {
     "data": {
      "text/latex": [
       "$\\displaystyle x - y$"
      ],
      "text/plain": [
       "x - y"
      ]
     },
     "execution_count": 4,
     "metadata": {},
     "output_type": "execute_result"
    }
   ],
   "source": [
    "sym.simplify((x**2-2*x*y+y**2)/(x-y))"
   ]
  },
  {
   "cell_type": "code",
   "execution_count": 6,
   "metadata": {},
   "outputs": [
    {
     "data": {
      "text/latex": [
       "$\\displaystyle x^{10} + 5 x^{9} + 10 x^{8} y + 10 x^{8} + 40 x^{7} y + 10 x^{7} + 40 x^{6} y^{2} + 60 x^{6} y + 5 x^{6} + 120 x^{5} y^{2} + 40 x^{5} y + x^{5} + 80 x^{4} y^{3} + 120 x^{4} y^{2} + 10 x^{4} y + 160 x^{3} y^{3} + 40 x^{3} y^{2} + 80 x^{2} y^{4} + 80 x^{2} y^{3} + 80 x y^{4} + 32 y^{5}$"
      ],
      "text/plain": [
       "x**10 + 5*x**9 + 10*x**8*y + 10*x**8 + 40*x**7*y + 10*x**7 + 40*x**6*y**2 + 60*x**6*y + 5*x**6 + 120*x**5*y**2 + 40*x**5*y + x**5 + 80*x**4*y**3 + 120*x**4*y**2 + 10*x**4*y + 160*x**3*y**3 + 40*x**3*y**2 + 80*x**2*y**4 + 80*x**2*y**3 + 80*x*y**4 + 32*y**5"
      ]
     },
     "execution_count": 6,
     "metadata": {},
     "output_type": "execute_result"
    }
   ],
   "source": [
    "sym.expand((x**2+x+2*y)**5)"
   ]
  },
  {
   "cell_type": "code",
   "execution_count": null,
   "metadata": {},
   "outputs": [],
   "source": []
  }
 ],
 "metadata": {
  "kernelspec": {
   "display_name": "Python 3",
   "language": "python",
   "name": "python3"
  },
  "language_info": {
   "codemirror_mode": {
    "name": "ipython",
    "version": 3
   },
   "file_extension": ".py",
   "mimetype": "text/x-python",
   "name": "python",
   "nbconvert_exporter": "python",
   "pygments_lexer": "ipython3",
   "version": "3.8.5"
  }
 },
 "nbformat": 4,
 "nbformat_minor": 4
}
