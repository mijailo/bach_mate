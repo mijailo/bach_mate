{
 "cells": [
  {
   "cell_type": "markdown",
   "metadata": {},
   "source": [
    "# Clase de conjuntos y funciones"
   ]
  },
  {
   "cell_type": "code",
   "execution_count": 2,
   "metadata": {},
   "outputs": [],
   "source": [
    "A=['♠','♣','♦','♥']\n",
    "B=['α','β']"
   ]
  },
  {
   "cell_type": "code",
   "execution_count": 3,
   "metadata": {},
   "outputs": [],
   "source": [
    "def powerset(seq):\n",
    "    \"\"\"\n",
    "    Función generadora de todos los subconjuntos de una lista.\n",
    "    type(seq)=list\n",
    "    \"\"\"\n",
    "    if len(seq) <= 1:\n",
    "        yield seq\n",
    "        yield []\n",
    "    else:\n",
    "        for item in powerset(seq[1:]):\n",
    "            yield [seq[0]]+item\n",
    "            yield item"
   ]
  },
  {
   "cell_type": "markdown",
   "metadata": {},
   "source": [
    "$\\mathcal{P}(A)$"
   ]
  },
  {
   "cell_type": "code",
   "execution_count": 4,
   "metadata": {},
   "outputs": [
    {
     "name": "stdout",
     "output_type": "stream",
     "text": [
      "1 : {'♥', '♠', '♣', '♦'}\n",
      "2 : {'♥', '♣', '♦'}\n",
      "3 : {'♥', '♠', '♦'}\n",
      "4 : {'♥', '♦'}\n",
      "5 : {'♥', '♠', '♣'}\n",
      "6 : {'♥', '♣'}\n",
      "7 : {'♠', '♥'}\n",
      "8 : {'♥'}\n",
      "9 : {'♠', '♣', '♦'}\n",
      "10 : {'♣', '♦'}\n",
      "11 : {'♠', '♦'}\n",
      "12 : {'♦'}\n",
      "13 : {'♠', '♣'}\n",
      "14 : {'♣'}\n",
      "15 : {'♠'}\n",
      "16 : set()\n"
     ]
    }
   ],
   "source": [
    "a=powerset(A)\n",
    "j=0\n",
    "for i in a:\n",
    "    j+=1\n",
    "    print(j,':',set(i))"
   ]
  },
  {
   "cell_type": "markdown",
   "metadata": {},
   "source": [
    "$B\\times A$"
   ]
  },
  {
   "cell_type": "code",
   "execution_count": 5,
   "metadata": {},
   "outputs": [
    {
     "name": "stdout",
     "output_type": "stream",
     "text": [
      "('α', '♠')\n",
      "('α', '♣')\n",
      "('α', '♦')\n",
      "('α', '♥')\n",
      "('β', '♠')\n",
      "('β', '♣')\n",
      "('β', '♦')\n",
      "('β', '♥')\n"
     ]
    }
   ],
   "source": [
    "for i in B:\n",
    "    for j in A:\n",
    "        print((i,j))"
   ]
  },
  {
   "cell_type": "markdown",
   "metadata": {},
   "source": [
    "$\\text{Hom}_{\\text{Set}}(A,B)$"
   ]
  },
  {
   "cell_type": "code",
   "execution_count": 6,
   "metadata": {
    "scrolled": true
   },
   "outputs": [
    {
     "name": "stdout",
     "output_type": "stream",
     "text": [
      "1 : {('♦', 'β'), ('♠', 'β'), ('♣', 'β'), ('♥', 'β')}\n",
      "2 : {('♥', 'β'), ('♦', 'β'), ('♣', 'β'), ('♠', 'α')}\n",
      "3 : {('♦', 'β'), ('♣', 'α'), ('♠', 'β'), ('♥', 'β')}\n",
      "4 : {('♥', 'β'), ('♣', 'α'), ('♦', 'β'), ('♠', 'α')}\n",
      "5 : {('♥', 'β'), ('♠', 'β'), ('♣', 'β'), ('♦', 'α')}\n",
      "6 : {('♥', 'β'), ('♣', 'β'), ('♦', 'α'), ('♠', 'α')}\n",
      "7 : {('♥', 'β'), ('♣', 'α'), ('♠', 'β'), ('♦', 'α')}\n",
      "8 : {('♥', 'β'), ('♣', 'α'), ('♦', 'α'), ('♠', 'α')}\n",
      "9 : {('♦', 'β'), ('♠', 'β'), ('♣', 'β'), ('♥', 'α')}\n",
      "10 : {('♥', 'α'), ('♦', 'β'), ('♣', 'β'), ('♠', 'α')}\n",
      "11 : {('♦', 'β'), ('♣', 'α'), ('♠', 'β'), ('♥', 'α')}\n",
      "12 : {('♣', 'α'), ('♦', 'β'), ('♥', 'α'), ('♠', 'α')}\n",
      "13 : {('♥', 'α'), ('♠', 'β'), ('♣', 'β'), ('♦', 'α')}\n",
      "14 : {('♥', 'α'), ('♣', 'β'), ('♦', 'α'), ('♠', 'α')}\n",
      "15 : {('♣', 'α'), ('♠', 'β'), ('♥', 'α'), ('♦', 'α')}\n",
      "16 : {('♣', 'α'), ('♥', 'α'), ('♦', 'α'), ('♠', 'α')}\n"
     ]
    }
   ],
   "source": [
    "AxB=[(i,j) for i in A for j in B]\n",
    "RelAB=powerset(AxB)\n",
    "\n",
    "j=0\n",
    "for i in RelAB:\n",
    "    if len(i)==4 and {k[0] for k in i}==set(A):\n",
    "        j+=1\n",
    "        print(j,':',set(i))"
   ]
  },
  {
   "cell_type": "markdown",
   "metadata": {},
   "source": [
    "$\\text{Hom}_{\\text{Set}}(B,A)$"
   ]
  },
  {
   "cell_type": "code",
   "execution_count": 7,
   "metadata": {},
   "outputs": [
    {
     "name": "stdout",
     "output_type": "stream",
     "text": [
      "1 : {('α', '♥'), ('β', '♥')}\n",
      "2 : {('β', '♥'), ('α', '♦')}\n",
      "3 : {('α', '♣'), ('β', '♥')}\n",
      "4 : {('β', '♥'), ('α', '♠')}\n",
      "5 : {('α', '♥'), ('β', '♦')}\n",
      "6 : {('β', '♦'), ('α', '♦')}\n",
      "7 : {('α', '♣'), ('β', '♦')}\n",
      "8 : {('β', '♦'), ('α', '♠')}\n",
      "9 : {('α', '♥'), ('β', '♣')}\n",
      "10 : {('β', '♣'), ('α', '♦')}\n",
      "11 : {('α', '♣'), ('β', '♣')}\n",
      "12 : {('β', '♣'), ('α', '♠')}\n",
      "13 : {('α', '♥'), ('β', '♠')}\n",
      "14 : {('β', '♠'), ('α', '♦')}\n",
      "15 : {('α', '♣'), ('β', '♠')}\n",
      "16 : {('β', '♠'), ('α', '♠')}\n"
     ]
    }
   ],
   "source": [
    "BxA=[(i,j) for i in B for j in A]\n",
    "RelBA=powerset(BxA)\n",
    "\n",
    "j=0\n",
    "for i in RelBA:\n",
    "    if len(i)==2 and i[0][0]!=i[1][0]:\n",
    "        j+=1\n",
    "        print(j,':',set(i))"
   ]
  },
  {
   "cell_type": "code",
   "execution_count": null,
   "metadata": {},
   "outputs": [],
   "source": []
  }
 ],
 "metadata": {
  "kernelspec": {
   "display_name": "Python 3",
   "language": "python",
   "name": "python3"
  },
  "language_info": {
   "codemirror_mode": {
    "name": "ipython",
    "version": 3
   },
   "file_extension": ".py",
   "mimetype": "text/x-python",
   "name": "python",
   "nbconvert_exporter": "python",
   "pygments_lexer": "ipython3",
   "version": "3.8.3"
  }
 },
 "nbformat": 4,
 "nbformat_minor": 2
}
